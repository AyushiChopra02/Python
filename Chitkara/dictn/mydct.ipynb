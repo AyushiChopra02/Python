{
 "cells": [
  {
   "cell_type": "code",
   "execution_count": 3,
   "metadata": {},
   "outputs": [
    {
     "name": "stdout",
     "output_type": "stream",
     "text": [
      "Alice\n"
     ]
    }
   ],
   "source": [
    "my_dict = {\n",
    "    \"name\": \"Alice\",\n",
    "    \"age\": 30,\n",
    "    \"city\": \"New York\"\n",
    "}\n",
    "print(my_dict[\"name\"])  \n",
    "my_dict[\"job\"] = \"Engineer\"\n",
    "my_dict.pop(\"age\")\n",
    "removed_pair = my_dict.popitem()\n",
    "my_dict.clear()\n",
    "values = my_dict.values()\n",
    "\n",
    "\n"
   ]
  },
  {
   "cell_type": "code",
   "execution_count": 4,
   "metadata": {},
   "outputs": [
    {
     "name": "stdout",
     "output_type": "stream",
     "text": [
      "Dictionary with key-value pairs: {'name': 'Alice', 'age': 30, 'city': 'New York'}\n"
     ]
    }
   ],
   "source": [
    "empty_dict = {}\n",
    "empty_dict[\"name\"] = \"Alice\"\n",
    "empty_dict[\"age\"] = 30\n",
    "empty_dict[\"city\"] = \"New York\"\n",
    "print(\"Dictionary with key-value pairs:\", empty_dict)\n",
    "\n",
    "\n"
   ]
  },
  {
   "cell_type": "code",
   "execution_count": 5,
   "metadata": {},
   "outputs": [
    {
     "name": "stdout",
     "output_type": "stream",
     "text": [
      "Name: Alice\n",
      "Age: 30\n",
      "Name: Bob\n",
      "Age: 25\n"
     ]
    }
   ],
   "source": [
    "my_dict = {\n",
    "    \"name\": \"Alice\",\n",
    "    \"age\": 30,\n",
    "    \"city\": \"New York\"\n",
    "}\n",
    "print(\"Name:\", my_dict[\"name\"])  \n",
    "print(\"Age:\", my_dict[\"age\"])\n",
    "my_dict = dict(name=\"Bob\", age=25, city=\"London\")\n",
    "print(\"Name:\", my_dict[\"name\"])  \n",
    "print(\"Age:\", my_dict[\"age\"])    "
   ]
  },
  {
   "cell_type": "code",
   "execution_count": 6,
   "metadata": {},
   "outputs": [
    {
     "name": "stdout",
     "output_type": "stream",
     "text": [
      "Name: Alice\n",
      "Age: 30\n",
      "Dictionary Items:\n",
      "name : Alice\n",
      "age : 30\n",
      "city : New York\n"
     ]
    }
   ],
   "source": [
    "my_dict = {\n",
    "    \"name\": \"Alice\",\n",
    "    \"age\": 30,\n",
    "    \"city\": \"New York\"\n",
    "}\n",
    "\n",
    "print(\"Name:\", my_dict[\"name\"])  \n",
    "print(\"Age:\", my_dict.get(\"age\"))  \n",
    "print(\"Dictionary Items:\")\n",
    "for key, value in my_dict.items():\n",
    "    print(key, \":\", value)\n",
    "\n"
   ]
  },
  {
   "cell_type": "code",
   "execution_count": 1,
   "metadata": {},
   "outputs": [
    {
     "name": "stdout",
     "output_type": "stream",
     "text": [
      "Merged Dictionary: {'name': 'Alice', 'age': 30, 'city': 'New York', 'job': 'Engineer'}\n"
     ]
    }
   ],
   "source": [
    "dict1 = {\"name\": \"Alice\", \"age\": 30}\n",
    "dict2 = {\"city\": \"New York\", \"job\": \"Engineer\"}\n",
    "\n",
    "merged_dict = dict1.copy()  \n",
    "merged_dict.update(dict2)    \n",
    "print(\"Merged Dictionary:\", merged_dict)\n",
    "\n"
   ]
  },
  {
   "cell_type": "code",
   "execution_count": 2,
   "metadata": {},
   "outputs": [
    {
     "name": "stdout",
     "output_type": "stream",
     "text": [
      "Original Dictionary: {'a': 1, 'b': 2}\n",
      "Copied Dictionary: {'a': 1, 'b': 2, 'c': 3}\n"
     ]
    }
   ],
   "source": [
    "original_dict = {\"a\": 1, \"b\": 2}\n",
    "copied_dict = original_dict.copy()\n",
    "copied_dict[\"c\"] = 3\n",
    "\n",
    "print(\"Original Dictionary:\", original_dict)  \n",
    "print(\"Copied Dictionary:\", copied_dict)      \n"
   ]
  },
  {
   "cell_type": "code",
   "execution_count": 7,
   "metadata": {},
   "outputs": [
    {
     "name": "stdout",
     "output_type": "stream",
     "text": [
      "Current Date and Time: 2023-10-29 15:19:35.185460\n",
      "Current Date: 2023-10-29\n",
      "Current Time: 15:19:35.185460\n"
     ]
    }
   ],
   "source": [
    "from datetime import datetime, date, time, timedelta\n",
    "current_datetime = datetime.now()\n",
    "print(\"Current Date and Time:\", current_datetime)\n",
    "\n",
    "current_date = date.today()\n",
    "print(\"Current Date:\", current_date)\n",
    "\n",
    "current_time = datetime.now().time()\n",
    "print(\"Current Time:\", current_time)\n"
   ]
  },
  {
   "cell_type": "code",
   "execution_count": 8,
   "metadata": {},
   "outputs": [
    {
     "name": "stdout",
     "output_type": "stream",
     "text": [
      "Parsed Date: 2023-10-18\n",
      "Date 7 days from now: 2023-11-05\n",
      "Number of days between two dates: 17\n"
     ]
    }
   ],
   "source": [
    "date_string = \"2023-10-18\"\n",
    "parsed_date = datetime.strptime(date_string, \"%Y-%m-%d\").date()\n",
    "print(\"Parsed Date:\", parsed_date)\n",
    "\n",
    "future_date = current_date + timedelta(days=7)\n",
    "print(\"Date 7 days from now:\", future_date)\n",
    "date1 = date(2023, 10, 1)\n",
    "date2 = date(2023, 10, 18)\n",
    "date_difference = date2 - date1\n",
    "print(\"Number of days between two dates:\", date_difference.days)"
   ]
  },
  {
   "cell_type": "code",
   "execution_count": null,
   "metadata": {},
   "outputs": [],
   "source": [
    "dict1 = {\"a\": 1, \"b\": 2}\n",
    "dict2 = {\"b\": 3, \"c\": 4}\n",
    "dict1.update(dict2)\n",
    "\n",
    "print(\"Merged Dictionary:\", dict1)  "
   ]
  }
 ],
 "metadata": {
  "kernelspec": {
   "display_name": "Python 3",
   "language": "python",
   "name": "python3"
  },
  "language_info": {
   "codemirror_mode": {
    "name": "ipython",
    "version": 3
   },
   "file_extension": ".py",
   "mimetype": "text/x-python",
   "name": "python",
   "nbconvert_exporter": "python",
   "pygments_lexer": "ipython3",
   "version": "3.11.5"
  }
 },
 "nbformat": 4,
 "nbformat_minor": 2
}
