{
 "cells": [
  {
   "cell_type": "code",
   "execution_count": null,
   "metadata": {},
   "outputs": [],
   "source": [
    "set1 = {1, 2, 3, 4, 5}\n",
    "set2 = set([3, 4, 5, 6, 7])\n",
    "set1.add(6)\n",
    "set1.update([7, 8, 9])\n",
    "set1.remove(3)\n",
    "popped_element = set1.pop()\n",
    "set1.clear()\n",
    "union_set = set1.union(set2)\n",
    "union_set = set1 | set2\n",
    "\n",
    "    \n",
    "\n"
   ]
  }
 ],
 "metadata": {
  "language_info": {
   "name": "python"
  }
 },
 "nbformat": 4,
 "nbformat_minor": 2
}
