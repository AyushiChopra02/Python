{
 "cells": [
  {
   "cell_type": "code",
   "execution_count": null,
   "metadata": {},
   "outputs": [],
   "source": [
    "set=input(\"Enter a sentence\")\n",
    "set=set+\" \"\n",
    "temp=\" \"\n",
    "rev=\" \"\n",
    "for i in set:\n",
    "    if i!=\" \" :\n",
    "        temp=i+temp\n",
    "    else:\n",
    "        rev=rev+\" \"+temp\n",
    "        temp=\" \"\n",
    "print(rev)"
   ]
  }
 ],
 "metadata": {
  "language_info": {
   "name": "python"
  }
 },
 "nbformat": 4,
 "nbformat_minor": 2
}
