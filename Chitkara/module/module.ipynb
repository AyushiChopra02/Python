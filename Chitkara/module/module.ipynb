{
 "cells": [
  {
   "cell_type": "code",
   "execution_count": null,
   "metadata": {},
   "outputs": [],
   "source": [
    "def add(a, b):\n",
    "    return a + b\n",
    "\n",
    "def subtract(a, b) :\n",
    "    return a - b"
   ]
  },
  {
   "cell_type": "code",
   "execution_count": null,
   "metadata": {},
   "outputs": [],
   "source": [
    "\n",
    "result_addition = add(5, 3)\n",
    "result_subtraction = subtract(10 4)\n",
    "\n",
    "print(\"Addition Result:\", result_addition)\n",
    "print(\"Subtraction Result:\", result_subtraction)\n"
   ]
  },
  {
   "cell_type": "code",
   "execution_count": null,
   "metadata": {},
   "outputs": [],
   "source": [
    "def multiply(a, b):\n",
    "    return a * b\n",
    "\n",
    "def divide(a, b) :\n",
    "    return a / b\n",
    "\n",
    "module_variable = \"I am a variable in math_operations module\"\n"
   ]
  },
  {
   "cell_type": "code",
   "execution_count": null,
   "metadata": {},
   "outputs": [],
   "source": [
    "def add(a, b):\n",
    "    return a + b\n",
    "\n",
    "def subtract(a, b):\n",
    "    return a - b\n",
    "\n",
    "def multiply(a, b):\n",
    "    return a * b\n",
    "\n",
    "def divide(a, b):\n",
    "    if b != 0:\n",
    "        return a / b\n",
    "    else:\n",
    "        return \"Error: Division by zero\"\n"
   ]
  },
  {
   "cell_type": "code",
   "execution_count": null,
   "metadata": {},
   "outputs": [],
   "source": [
    "import sys\n",
    "built_in_modules = sys.builtin_module_names\n",
    "\n",
    "\n",
    "print(\"List of Built-in Modules:\")\n",
    "print(built_in_modules)\n",
    "\n",
    "import math\n",
    "import random\n",
    "import datetime\n",
    "\n",
    "print(\"\\nDocumentation for math module:\")\n",
    "print(help(math))\n",
    "\n",
    "print(\"\\nDocumentation for random module:\")\n",
    "print(help(random))\n",
    "\n",
    "print(\"\\nDocumentation for datetime module:\")\n",
    "print(help(datetime))"
   ]
  },
  {
   "cell_type": "code",
   "execution_count": null,
   "metadata": {},
   "outputs": [],
   "source": []
  }
 ],
 "metadata": {
  "language_info": {
   "name": "python"
  }
 },
 "nbformat": 4,
 "nbformat_minor": 2
}
