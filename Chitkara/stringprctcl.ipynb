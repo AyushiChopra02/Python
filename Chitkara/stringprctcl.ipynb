{
 "cells": [
  {
   "cell_type": "code",
   "execution_count": 4,
   "metadata": {},
   "outputs": [
    {
     "name": "stdout",
     "output_type": "stream",
     "text": [
      "\n",
      "}\n",
      "2 :\"ronim_tamrofbn\" \n",
      ",4 :\"tamrofbn\" \n",
      ",} \n",
      "}  \n",
      "\"nohtyp\" :\"eman\"   \n",
      "{ :\"ofni_egaugnal\"  \n",
      "{ :\"atadatem\" \n",
      ",] \n",
      "}  \n",
      "]   \n",
      "\"n\\)serauqs ,\"\\:serauqs fo teS\"\\(tnirp\"    \n",
      ",\"n\\}srebmun ni x rof 2**x{ = serauqs\"    \n",
      ",\"n\\}5 ,4 ,3 ,2 ,1{ = srebmun\"    \n",
      "[ :\"ecruos\"   \n",
      ",][ :\"stuptuo\"   \n",
      ",}{ :\"atadatem\"   \n",
      ",llun :\"tnuoc_noitucexe\"   \n",
      ",\"edoc\" :\"epyt_llec\"   \n",
      "{  \n",
      "[ :\"sllec\" \n",
      "{"
     ]
    }
   ],
   "source": [
    "import os\n",
    "filename=input(\"enter a filename:\")\n",
    "fd_read=open(filename,\"r\")\n",
    "fd_read.seek(0,os.SEEK_END)\n",
    "end=fd_read.tell()\n",
    "for index in range(end,-1,-1):\n",
    " fd_read.seek(index,os.SEEK_SET)\n",
    " print(fd_read.read(1),end=\"\")\n",
    "fd_read.close()\n"
   ]
  },
  {
   "cell_type": "code",
   "execution_count": 9,
   "metadata": {},
   "outputs": [
    {
     "ename": "SyntaxError",
     "evalue": "invalid syntax. Maybe you meant '==' or ':=' instead of '='? (3600408325.py, line 7)",
     "output_type": "error",
     "traceback": [
      "\u001b[1;36m  Cell \u001b[1;32mIn[9], line 7\u001b[1;36m\u001b[0m\n\u001b[1;33m    numerator = 100 , denominator = 0\u001b[0m\n\u001b[1;37m    ^\u001b[0m\n\u001b[1;31mSyntaxError\u001b[0m\u001b[1;31m:\u001b[0m invalid syntax. Maybe you meant '==' or ':=' instead of '='?\n"
     ]
    }
   ],
   "source": [
    "def divide_numbers(x, y): \n",
    "\ttry:  \n",
    "\t\tresult = x / y \n",
    "\t\tprint(\"Result:\", result) \n",
    "\texcept ZeroDivisionError: \n",
    "         print(\"The division by zero operation is not allowed.\")  \n",
    "         numerator = 100 , denominator = 0 \n",
    "         divide_numbers(numerator, denominator)\n"
   ]
  }
 ],
 "metadata": {
  "kernelspec": {
   "display_name": "Python 3",
   "language": "python",
   "name": "python3"
  },
  "language_info": {
   "codemirror_mode": {
    "name": "ipython",
    "version": 3
   },
   "file_extension": ".py",
   "mimetype": "text/x-python",
   "name": "python",
   "nbconvert_exporter": "python",
   "pygments_lexer": "ipython3",
   "version": "3.11.5"
  }
 },
 "nbformat": 4,
 "nbformat_minor": 2
}
