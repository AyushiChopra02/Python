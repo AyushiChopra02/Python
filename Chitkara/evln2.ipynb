{
 "cells": [
  {
   "cell_type": "code",
   "execution_count": 1,
   "metadata": {},
   "outputs": [
    {
     "name": "stdout",
     "output_type": "stream",
     "text": [
      "Generated List: [78, 35, 80, 43, 97, 40, 16, 6, 9, 85]\n",
      "Maximum value: 97\n",
      "Minimum value: 6\n"
     ]
    }
   ],
   "source": [
    "import random\n",
    "\n",
    "def generate_integer_list(size, minimum, maximum):\n",
    "    return [random.randint(minimum, maximum) for _ in range(size)]\n",
    "\n",
    "def find_max_min(lst):\n",
    "    if not lst:\n",
    "        return None, None  \n",
    "    else:\n",
    "        max_val = max(lst)\n",
    "        min_val = min(lst)\n",
    "        return max_val, min_val\n",
    "\n",
    "integer_list = generate_integer_list(10, 1, 100)\n",
    "\n",
    "print(\"Generated List:\", integer_list)\n",
    "\n",
    "max_value, min_value = find_max_min(integer_list)\n",
    "\n",
    "print(f\"Maximum value: {max_value}\")\n",
    "print(f\"Minimum value: {min_value}\")\n"
   ]
  }
 ],
 "metadata": {
  "kernelspec": {
   "display_name": "Python 3",
   "language": "python",
   "name": "python3"
  },
  "language_info": {
   "codemirror_mode": {
    "name": "ipython",
    "version": 3
   },
   "file_extension": ".py",
   "mimetype": "text/x-python",
   "name": "python",
   "nbconvert_exporter": "python",
   "pygments_lexer": "ipython3",
   "version": "3.11.5"
  }
 },
 "nbformat": 4,
 "nbformat_minor": 2
}
