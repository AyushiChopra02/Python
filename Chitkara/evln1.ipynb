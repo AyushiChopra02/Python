{
 "cells": [
  {
   "cell_type": "code",
   "execution_count": 3,
   "metadata": {},
   "outputs": [
    {
     "name": "stdout",
     "output_type": "stream",
     "text": [
      "Student Ram grade 91.\n",
      "Student shubham grade 80.\n",
      "Student Rai grade 5.\n",
      "Initial Student Grades: {'Ram': 91, 'shubham': 80, 'Rai': 5}\n",
      "Grade updated for shubham. New grade: 80.\n",
      "Update Student Grades: {'Ram': 91, 'shubham': 80, 'Rai': 5}\n"
     ]
    }
   ],
   "source": [
    "studentGrades = {}\n",
    "\n",
    "def addStudent(name, grade) :\n",
    "    if name not in studentGrades:\n",
    "        studentGrades[name] = grade\n",
    "        print(f\"Student {name} grade {grade}.\")\n",
    "    else:\n",
    "        print(f\"Student {name}  exists.\")\n",
    "\n",
    "def update_grade(name, new_grade):\n",
    "    if name in studentGrades:\n",
    "        studentGrades[name] = new_grade\n",
    "        print(f\"Grade updated for {name}. New grade: {new_grade}.\")\n",
    "    else:\n",
    "        print(f\"Student {name} not found.\")\n",
    "\n",
    "addStudent(\"Ram\", 91)\n",
    "addStudent(\"shubham\", 80)\n",
    "addStudent(\"Rai\", 5)\n",
    "print(\"Initial Student Grades:\", studentGrades)\n",
    "update_grade(\"shubham\", 80)\n",
    "print(\"Update Student Grades:\", studentGrades)\n"
   ]
  }
 ],
 "metadata": {
  "kernelspec": {
   "display_name": "Python 3",
   "language": "python",
   "name": "python3"
  },
  "language_info": {
   "codemirror_mode": {
    "name": "ipython",
    "version": 3
   },
   "file_extension": ".py",
   "mimetype": "text/x-python",
   "name": "python",
   "nbconvert_exporter": "python",
   "pygments_lexer": "ipython3",
   "version": "3.11.5"
  }
 },
 "nbformat": 4,
 "nbformat_minor": 2
}
