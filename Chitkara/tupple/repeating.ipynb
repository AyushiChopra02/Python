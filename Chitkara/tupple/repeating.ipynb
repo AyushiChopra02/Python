{
 "cells": [
  {
   "cell_type": "code",
   "execution_count": null,
   "metadata": {},
   "outputs": [],
   "source": [
    "tuple = (1, 2)\n",
    "repeated_tuple = tuple * 3\n",
    "print(\"Repeated tuple:\",repeated_tuple)  \n"
   ]
  }
 ],
 "metadata": {
  "language_info": {
   "name": "python"
  }
 },
 "nbformat": 4,
 "nbformat_minor": 2
}
