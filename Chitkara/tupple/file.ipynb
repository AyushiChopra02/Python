{
 "cells": [
  {
   "cell_type": "code",
   "execution_count": 1,
   "metadata": {},
   "outputs": [],
   "source": [
    "import tkinter as tk\n",
    "\n",
    "class DrawingApp:\n",
    "    def __init__(self, root):\n",
    "        self.root = root\n",
    "        self.root.title(\" Drawing Application\")\n",
    "\n",
    "        self.canvas = tk.Canvas(root, bg=\"white\", width=500, height=500)\n",
    "        self.canvas.pack(expand=tk.YES, fill=tk.BOTH)\n",
    "\n",
    "        self.shape = None\n",
    "        self.start_x = None\n",
    "        self.start_y = None\n",
    "\n",
    "        self.canvas.bind(\"<B1-Motion>\", self.draw)\n",
    "        self.canvas.bind(\"<ButtonPress-1>\", self.set_start_point)\n",
    "\n",
    "        clear_button = tk.Button(root, text=\"Clear Canvas\", command=self.clear_canvas)\n",
    "        clear_button.pack(side=tk.BOTTOM)\n",
    "\n",
    "    def draw(self, event):\n",
    "        if self.shape:\n",
    "            self.canvas.delete(self.shape)\n",
    "        x, y = event.x, event.y\n",
    "        self.shape = self.canvas.create_oval(self.start_x, self.start_y, x, y, outline=\"black\")\n",
    "\n",
    "    def set_start_point(self, event):\n",
    "        self.start_x, self.start_y = event.x, event.y\n",
    "\n",
    "    def clear_canvas(self):\n",
    "        self.canvas.delete(\"all\")\n",
    "\n",
    "if __name__ == \"__main__\":\n",
    "    root = tk.Tk()\n",
    "    app = DrawingApp(root)\n",
    "    root.mainloop()\n"
   ]
  }
 ],
 "metadata": {
  "kernelspec": {
   "display_name": "Python 3",
   "language": "python",
   "name": "python3"
  },
  "language_info": {
   "codemirror_mode": {
    "name": "ipython",
    "version": 3
   },
   "file_extension": ".py",
   "mimetype": "text/x-python",
   "name": "python",
   "nbconvert_exporter": "python",
   "pygments_lexer": "ipython3",
   "version": "3.11.5"
  }
 },
 "nbformat": 4,
 "nbformat_minor": 2
}
