{
 "cells": [
  {
   "cell_type": "code",
   "execution_count": null,
   "metadata": {},
   "outputs": [],
   "source": [
    "input_list = [1, 2, 2, 3, 4, 4, 5]\n",
    "unique_elements = list(set(input_list))\n",
    "print(\"with duplicates:\", input_list)\n",
    "print(\"without duplicates:\", unique_elements)\n"
   ]
  }
 ],
 "metadata": {
  "language_info": {
   "name": "python"
  }
 },
 "nbformat": 4,
 "nbformat_minor": 2
}
