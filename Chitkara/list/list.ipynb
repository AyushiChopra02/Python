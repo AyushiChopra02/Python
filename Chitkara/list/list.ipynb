{
 "cells": [
  {
   "cell_type": "code",
   "execution_count": 1,
   "metadata": {},
   "outputs": [
    {
     "name": "stdout",
     "output_type": "stream",
     "text": [
      "Jagged List\n",
      "[1, 2, 3]\n",
      "[4, 5]\n",
      "[6, 7, 8]\n",
      "[10]\n",
      "/nAccessing specific elements: \n",
      "Element at jagged_list[0][1]: 2\n",
      "Element at jagged_list[2][2]: 8\n",
      "/nModifying elemnts : \n",
      "Modified jgd list: \n",
      "[1, 10, 3]\n",
      "[4, 5, 6]\n",
      "[6, 7, 8]\n",
      "[10]\n"
     ]
    },
    {
     "ename": "TypeError",
     "evalue": "unsupported operand type(s) for +: 'int' and 'str'",
     "output_type": "error",
     "traceback": [
      "\u001b[1;31m---------------------------------------------------------------------------\u001b[0m",
      "\u001b[1;31mTypeError\u001b[0m                                 Traceback (most recent call last)",
      "\u001b[1;32ma:\\Language\\Python\\Chitkara\\list\\list.ipynb Cell 1\u001b[0m line \u001b[0;36m1\n\u001b[0;32m     <a href='vscode-notebook-cell:/a%3A/Language/Python/Chitkara/list/list.ipynb#W0sZmlsZQ%3D%3D?line=15'>16</a>\u001b[0m total_sum \u001b[39m=\u001b[39m \u001b[39m0\u001b[39m\n\u001b[0;32m     <a href='vscode-notebook-cell:/a%3A/Language/Python/Chitkara/list/list.ipynb#W0sZmlsZQ%3D%3D?line=16'>17</a>\u001b[0m \u001b[39mfor\u001b[39;00m inner_list \u001b[39min\u001b[39;00m jagged_list:\n\u001b[1;32m---> <a href='vscode-notebook-cell:/a%3A/Language/Python/Chitkara/list/list.ipynb#W0sZmlsZQ%3D%3D?line=17'>18</a>\u001b[0m     total_sum \u001b[39m+\u001b[39m\u001b[39m=\u001b[39m \u001b[39msum\u001b[39;49m(\u001b[39m\"\u001b[39;49m\u001b[39minner_list\u001b[39;49m\u001b[39m\"\u001b[39;49m)\n\u001b[0;32m     <a href='vscode-notebook-cell:/a%3A/Language/Python/Chitkara/list/list.ipynb#W0sZmlsZQ%3D%3D?line=18'>19</a>\u001b[0m \u001b[39mprint\u001b[39m(\u001b[39m\"\u001b[39m\u001b[39m/nTotal sum of all elemnt in jagged list: \u001b[39m\u001b[39m\"\u001b[39m , total_sum)    \n",
      "\u001b[1;31mTypeError\u001b[0m: unsupported operand type(s) for +: 'int' and 'str'"
     ]
    }
   ],
   "source": [
    "jagged_list = [[1,2,3] , [4,5] , [6,7,8], [10]]\n",
    "print(\"Jagged List \")\n",
    "for inner_list in jagged_list:\n",
    "    print(inner_list)\n",
    "\n",
    "print(\"/nAccessing specific elements: \")\n",
    "print(\"Element at jagged_list[0][1]:\", jagged_list[0][1])\n",
    "print(\"Element at jagged_list[2][2]:\", jagged_list[2][2])\n",
    "print(\"/nModifying elemnts : \")\n",
    "jagged_list[1].append(6)\n",
    "jagged_list[0][1] = 10  \n",
    "print(\"Modified jgd list: \")\n",
    "for inner_list in jagged_list:\n",
    "    print(inner_list)\n",
    "\n",
    "total_sum = 0\n",
    "for inner_list in jagged_list:\n",
    "    total_sum += sum(\"inner_list\")\n",
    "print(\"/nTotal sum of all elemnt in jagged list: \" , total_sum)    "
   ]
  }
 ],
 "metadata": {
  "kernelspec": {
   "display_name": "Python 3",
   "language": "python",
   "name": "python3"
  },
  "language_info": {
   "codemirror_mode": {
    "name": "ipython",
    "version": 3
   },
   "file_extension": ".py",
   "mimetype": "text/x-python",
   "name": "python",
   "nbconvert_exporter": "python",
   "pygments_lexer": "ipython3",
   "version": "3.11.5"
  }
 },
 "nbformat": 4,
 "nbformat_minor": 2
}
