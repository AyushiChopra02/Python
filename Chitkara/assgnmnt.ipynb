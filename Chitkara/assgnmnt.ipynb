{
 "cells": [
  {
   "cell_type": "code",
   "execution_count": 2,
   "metadata": {},
   "outputs": [
    {
     "name": "stdout",
     "output_type": "stream",
     "text": [
      "\n",
      "Average grades:\n",
      "Riya: 55.50\n",
      "Shubham: 93.00\n"
     ]
    }
   ],
   "source": [
    "def calculate_average(grades):\n",
    "    return sum(grades) / len(grades)\n",
    "student_grades = {} \n",
    "num_students = int(input(\"Enter the number of students: \"))\n",
    "num_subjects = int(input(\"Enter the number of subjects: \"))\n",
    "\n",
    "for i in range(num_students):\n",
    "    student_name = input(f\"Enter the name of student {i + 1}: \")\n",
    "    grades = []\n",
    "    for j in range(num_subjects):\n",
    "        grade = float(input(f\"Enter {student_name}'s grade for subject {j + 1}: \"))\n",
    "        grades.append(grade)\n",
    "    student_grades[student_name] = grades\n",
    "\n",
    "print(\"\\nAverage grades:\")\n",
    "for student, grades in student_grades.items():\n",
    "    average_grade = calculate_average(grades)\n",
    "    print(f\"{student}: {average_grade:.2f}\")"
   ]
  },
  {
   "cell_type": "code",
   "execution_count": 4,
   "metadata": {},
   "outputs": [
    {
     "name": "stdout",
     "output_type": "stream",
     "text": [
      "{'e', 'w', 'l', 'h', 'd', 'r', 'o'}\n"
     ]
    }
   ],
   "source": [
    "def unique_characters(input_string):\n",
    "    cleaned_string = input_string.replace(\" \", \"\").lower()\n",
    "    unique_chars = set(cleaned_string)\n",
    "    unique_chars = {char for char in unique_chars if char.isalpha()}\n",
    "    return unique_chars\n",
    "input_string = \"Hello, World!\"\n",
    "result = unique_characters(input_string)\n",
    "print(result)\n"
   ]
  },
  {
   "cell_type": "code",
   "execution_count": 5,
   "metadata": {},
   "outputs": [
    {
     "name": "stdout",
     "output_type": "stream",
     "text": [
      "Updated list of favorite fruits: ('apple', 'banana', 'orange', 'mango', 'cherry')\n",
      "Modified list of favorite fruits after removal: ('apple', 'banana', 'mango', 'cherry')\n"
     ]
    }
   ],
   "source": [
    "favorite_fruits = (\"apple\", \"banana\", \"orange\", \"mango\")\n",
    "new_fruit = input(\"Enter a new fruit to add to the list: \")\n",
    "favorite_fruits += (new_fruit,)  \n",
    "print(\"Updated list of favorite fruits:\", favorite_fruits)\n",
    "try:\n",
    "    index_to_remove = int(input(\"Enter the index of the fruit to remove: \"))\n",
    "    favorite_fruits = favorite_fruits[:index_to_remove] + favorite_fruits[index_to_remove + 1:]\n",
    "    print(\"Modified list of favorite fruits after removal:\", favorite_fruits)\n",
    "except IndexError:\n",
    "    print(\"Invalid index. No fruit removed.\")\n",
    "except ValueError:\n",
    "    print(\"Invalid input. Please enter a valid index.\")\n"
   ]
  },
  {
   "cell_type": "code",
   "execution_count": 6,
   "metadata": {},
   "outputs": [
    {
     "name": "stdout",
     "output_type": "stream",
     "text": [
      "{'hello': 2, 'world': 1, 'python': 1}\n"
     ]
    }
   ],
   "source": [
    "import string\n",
    "\n",
    "def count_word_frequencies(sentence):\n",
    "    cleaned_sentence = sentence.translate(str.maketrans(\"\", \"\", string.punctuation)).lower()\n",
    "    words = cleaned_sentence.split()\n",
    "    word_frequencies = {}\n",
    "    for word in words:\n",
    "        word_frequencies[word] = word_frequencies.get(word, 0) + 1\n",
    "    return word_frequencies\n",
    "input_sentence = \"Hello world, hello Python!\"\n",
    "word_frequencies = count_word_frequencies(input_sentence)\n",
    "print(word_frequencies)\n"
   ]
  },
  {
   "cell_type": "code",
   "execution_count": 8,
   "metadata": {},
   "outputs": [
    {
     "name": "stdout",
     "output_type": "stream",
     "text": [
      "Union of set1 and set2: {1, 2, 3, 4, 5, 6, 7, 8}\n",
      "Intersection of set1 and set2: {4, 5}\n",
      "Difference between set1 and set2: {1, 2, 3}\n",
      "Difference between set2 and set1: {8, 6, 7}\n"
     ]
    }
   ],
   "source": [
    "\n",
    "set1 = {1, 2, 3, 4, 5}\n",
    "set2 = {4, 5, 6, 7,8}\n",
    "\n",
    "\n",
    "union_set = set1.union(set2)  \n",
    "intersection_set = set1.intersection(set2)  \n",
    "difference_set1 = set1.difference(set2)  \n",
    "difference_set2 = set2.difference(set1)  \n",
    "\n",
    "\n",
    "print(\"Union of set1 and set2:\", union_set)\n",
    "print(\"Intersection of set1 and set2:\", intersection_set)\n",
    "print(\"Difference between set1 and set2:\", difference_set1)\n",
    "print(\"Difference between set2 and set1:\", difference_set2)\n"
   ]
  }
 ],
 "metadata": {
  "kernelspec": {
   "display_name": "Python 3",
   "language": "python",
   "name": "python3"
  },
  "language_info": {
   "codemirror_mode": {
    "name": "ipython",
    "version": 3
   },
   "file_extension": ".py",
   "mimetype": "text/x-python",
   "name": "python",
   "nbconvert_exporter": "python",
   "pygments_lexer": "ipython3",
   "version": "3.11.5"
  }
 },
 "nbformat": 4,
 "nbformat_minor": 2
}
