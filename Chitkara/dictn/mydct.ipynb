{
 "cells": [
  {
   "cell_type": "code",
   "execution_count": null,
   "metadata": {},
   "outputs": [],
   "source": [
    "my_dict = {\n",
    "    \"name\": \"Alice\",\n",
    "    \"age\": 30,\n",
    "    \"city\": \"New York\"\n",
    "}\n",
    "print(my_dict[\"name\"])  \n",
    "my_dict[\"job\"] = \"Engineer\"\n",
    "my_dict.pop(\"age\")\n",
    "removed_pair = my_dict.popitem()\n",
    "my_dict.clear()\n",
    "values = my_dict.values()\n",
    "\n",
    "\n"
   ]
  },
  {
   "cell_type": "code",
   "execution_count": null,
   "metadata": {},
   "outputs": [],
   "source": [
    "empty_dict = {}\n",
    "empty_dict[\"name\"] = \"Alice\"\n",
    "empty_dict[\"age\"] = 30\n",
    "empty_dict[\"city\"] = \"New York\"\n",
    "print(\"Dictionary with key-value pairs:\", empty_dict)\n",
    "\n",
    "\n"
   ]
  },
  {
   "cell_type": "code",
   "execution_count": null,
   "metadata": {},
   "outputs": [],
   "source": [
    "my_dict = {\n",
    "    \"name\": \"Alice\",\n",
    "    \"age\": 30,\n",
    "    \"city\": \"New York\"\n",
    "}\n",
    "print(\"Name:\", my_dict[\"name\"])  \n",
    "print(\"Age:\", my_dict[\"age\"])\n",
    "my_dict = dict(name=\"Bob\", age=25, city=\"London\")\n",
    "print(\"Name:\", my_dict[\"name\"])  \n",
    "print(\"Age:\", my_dict[\"age\"])    "
   ]
  },
  {
   "cell_type": "code",
   "execution_count": null,
   "metadata": {},
   "outputs": [],
   "source": [
    "my_dict = {\n",
    "    \"name\": \"Alice\",\n",
    "    \"age\": 30,\n",
    "    \"city\": \"New York\"\n",
    "}\n",
    "\n",
    "print(\"Name:\", my_dict[\"name\"])  \n",
    "print(\"Age:\", my_dict.get(\"age\"))  \n",
    "print(\"Dictionary Items:\")\n",
    "for key, value in my_dict.items():\n",
    "    print(key, \":\", value)\n",
    "\n"
   ]
  },
  {
   "cell_type": "code",
   "execution_count": null,
   "metadata": {},
   "outputs": [],
   "source": [
    "dict1 = {\"name\": \"Alice\", \"age\": 30}\n",
    "dict2 = {\"city\": \"New York\", \"job\": \"Engineer\"}\n",
    "\n",
    "merged_dict = dict1.copy()  \n",
    "merged_dict.update(dict2)    \n",
    "print(\"Merged Dictionary:\", merged_dict)\n",
    "\n"
   ]
  },
  {
   "cell_type": "code",
   "execution_count": null,
   "metadata": {},
   "outputs": [],
   "source": [
    "original_dict = {\"a\": 1, \"b\": 2}\n",
    "copied_dict = original_dict.copy()\n",
    "copied_dict[\"c\"] = 3\n",
    "\n",
    "print(\"Original Dictionary:\", original_dict)  \n",
    "print(\"Copied Dictionary:\", copied_dict)      \n"
   ]
  },
  {
   "cell_type": "code",
   "execution_count": null,
   "metadata": {},
   "outputs": [],
   "source": [
    "from datetime import datetime, date, time, timedelta\n",
    "current_datetime = datetime.now()\n",
    "print(\"Current Date and Time:\", current_datetime)\n",
    "\n",
    "current_date = date.today()\n",
    "print(\"Current Date:\", current_date)\n",
    "\n",
    "current_time = datetime.now().time()\n",
    "print(\"Current Time:\", current_time)\n"
   ]
  },
  {
   "cell_type": "code",
   "execution_count": null,
   "metadata": {},
   "outputs": [],
   "source": [
    "date_string = \"2023-10-18\"\n",
    "parsed_date = datetime.strptime(date_string, \"%Y-%m-%d\").date()\n",
    "print(\"Parsed Date:\", parsed_date)\n",
    "\n",
    "future_date = current_date + timedelta(days=7)\n",
    "print(\"Date 7 days from now:\", future_date)\n",
    "date1 = date(2023, 10, 1)\n",
    "date2 = date(2023, 10, 18)\n",
    "date_difference = date2 - date1\n",
    "print(\"Number of days between two dates:\", date_difference.days)"
   ]
  }
 ],
 "metadata": {
  "language_info": {
   "name": "python"
  }
 },
 "nbformat": 4,
 "nbformat_minor": 2
}
