{
 "cells": [
  {
   "cell_type": "code",
   "execution_count": null,
   "metadata": {},
   "outputs": [],
   "source": [
    "set = {1, 2, 3, 4, 5}\n",
    "removeElemnt = 3\n",
    "if removeElemnt in set:\n",
    "    set.remove(removeElemnt)\n",
    "print(\"Set after removing\", removeElemnt, \":\", set)\n"
   ]
  }
 ],
 "metadata": {
  "language_info": {
   "name": "python"
  }
 },
 "nbformat": 4,
 "nbformat_minor": 2
}
