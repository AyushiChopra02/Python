{
 "cells": [
  {
   "cell_type": "code",
   "execution_count": 1,
   "metadata": {},
   "outputs": [],
   "source": [
    "def calculate_average(grades):\n",
    "    return sum(grades) / len(grades)\n",
    "student_grades = {} \n",
    "num_students = int(input(\"Enter the number of students: \"))\n",
    "num_subjects = int(input(\"Enter the number of subjects: \"))\n",
    "\n",
    "for i in range(num_students):\n",
    "    student_name = input(f\"Enter the name of student {i + 1}: \")\n",
    "    grades = []\n",
    "    for j in range(num_subjects):\n",
    "        grade = float(input(f\"Enter {student_name}'s grade for subject {j + 1}: \"))\n",
    "        grades.append(grade)\n",
    "    student_grades[student_name] = grades\n",
    "\n",
    "print(\"\\nAverage grades:\")\n",
    "for student, grades in student_grades.items():\n",
    "    average_grade = calculate_average(grades)\n",
    "    print(f\"{student}: {average_grade:.2f}\")"
   ]
  }
 ],
 "metadata": {
  "kernelspec": {
   "display_name": "Python 3",
   "language": "python",
   "name": "python3"
  },
  "language_info": {
   "codemirror_mode": {
    "name": "ipython",
    "version": 3
   },
   "file_extension": ".py",
   "mimetype": "text/x-python",
   "name": "python",
   "nbconvert_exporter": "python",
   "pygments_lexer": "ipython3",
   "version": "3.11.5"
  }
 },
 "nbformat": 4,
 "nbformat_minor": 2
}
