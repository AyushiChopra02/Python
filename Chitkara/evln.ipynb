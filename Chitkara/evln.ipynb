{
 "cells": [
  {
   "cell_type": "code",
   "execution_count": 2,
   "metadata": {},
   "outputs": [
    {
     "name": "stdout",
     "output_type": "stream",
     "text": [
      "List of integers: [32, 93, 78, 24, 70, 73, 92, 74, 88, 11]\n",
      "Maximum value: 93\n",
      "Minimum value: 11\n"
     ]
    }
   ],
   "source": [
    "import random\n",
    "\n",
    "def findmaxmin(numbers):\n",
    "    if not numbers:\n",
    "        return None, None\n",
    "    \n",
    "    maxvalue = numbers[0]\n",
    "    minvalue = numbers[0]\n",
    "    \n",
    "    for num in numbers:\n",
    "        if num > maxvalue:\n",
    "            maxvalue = num\n",
    "        elif num < minvalue:\n",
    "            minvalue = num\n",
    "    \n",
    "    return maxvalue, minvalue\n",
    "\n",
    "random_integers = [random.randint(1, 100) for i in range(10)]\n",
    "maxvalue, minvalue = findmaxmin(random_integers)\n",
    "print(\"List of integers:\", random_integers)\n",
    "print(\"Maximum value:\", maxvalue)\n",
    "print(\"Minimum value:\", minvalue)"
   ]
  }
 ],
 "metadata": {
  "kernelspec": {
   "display_name": "Python 3",
   "language": "python",
   "name": "python3"
  },
  "language_info": {
   "codemirror_mode": {
    "name": "ipython",
    "version": 3
   },
   "file_extension": ".py",
   "mimetype": "text/x-python",
   "name": "python",
   "nbconvert_exporter": "python",
   "pygments_lexer": "ipython3",
   "version": "3.11.5"
  }
 },
 "nbformat": 4,
 "nbformat_minor": 2
}
