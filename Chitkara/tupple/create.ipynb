{
 "cells": [
  {
   "cell_type": "code",
   "execution_count": null,
   "metadata": {},
   "outputs": [],
   "source": [
    "\n",
    "tuple1 = (1, 2, 3)\n",
    "tuple2 = (\"apple\", \"banana\", \"cherry\")\n",
    "tuple3 = (1, \"hello\", 3.14)\n",
    "repeated_tuple = tuple1 * 3\n",
    "print(len(tuple1)) \n",
    "print(2 in tuple1) \n",
    "print(\"orange\" in tuple2)  \n",
    "\n",
    "\n"
   ]
  }
 ],
 "metadata": {
  "language_info": {
   "name": "python"
  }
 },
 "nbformat": 4,
 "nbformat_minor": 2
}
